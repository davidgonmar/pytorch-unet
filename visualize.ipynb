{
 "cells": [
  {
   "cell_type": "markdown",
   "metadata": {},
   "source": [
    "# Visualization of some images (resized both to the same size so that they can be masked)\n"
   ]
  },
  {
   "cell_type": "code",
   "execution_count": 24,
   "metadata": {},
   "outputs": [],
   "source": [
    "from oxford_pets_dataset import OxfordPetsDataset\n",
    "from torchvision.transforms import Compose, Resize, CenterCrop, Pad\n",
    "import matplotlib.pyplot as plt\n",
    "from unet import UNet\n",
    "import torch\n",
    "from train import get_resize_transform\n",
    "\n",
    "\n",
    "unet = UNet(in_channels=3, out_channels=1).cuda()\n",
    "# try to load the model\n",
    "try:\n",
    "    unet.load_state_dict(torch.load(\"checkpoints/unet.pth\"))\n",
    "except FileNotFoundError:\n",
    "    print(\"Model not found, please train it first\")\n",
    "\n",
    "\n",
    "# We need to transform it to be the same size\n",
    "dataset = OxfordPetsDataset(\n",
    "    \"data\",\n",
    "    mode=\"test\",\n",
    "    transform={\n",
    "        \"image\": Compose([get_resize_transform((572, 572))]),\n",
    "        \"mask\": Compose([get_resize_transform((572, 572)), CenterCrop((388, 388))]),\n",
    "    },\n",
    ")\n",
    "\n",
    "\n",
    "def compare(N):\n",
    "    # get random image and mask\n",
    "    image, mask = dataset[N]\n",
    "    plt.imshow(image.permute(1, 2, 0))\n",
    "    plt.imshow(mask.squeeze(), alpha=0.5, cmap=\"gray\")\n",
    "\n",
    "    # see what the model predicts\n",
    "    unet.eval()\n",
    "    with torch.no_grad():\n",
    "        pred = unet(image.unsqueeze(0).cuda())\n",
    "    plt.imshow(CenterCrop(378)(image).permute(1, 2, 0))\n",
    "    # transform the mask to the image size\n",
    "    plt.imshow((mask.squeeze().cpu() > 0.5), alpha=0.5, cmap=\"gray\")\n",
    "\n",
    "    plt.figure()\n",
    "    plt.imshow(pred.squeeze().cpu() > 0.5, alpha=1, cmap=\"gray\")\n",
    "\n",
    "    plt.show()\n",
    "\n",
    "\n",
    "compare(8)\n"
   ]
  },
  {
   "cell_type": "code",
   "execution_count": null,
   "metadata": {},
   "outputs": [],
   "source": []
  }
 ],
 "metadata": {
  "kernelspec": {
   "display_name": "pytorch",
   "language": "python",
   "name": "python3"
  },
  "language_info": {
   "codemirror_mode": {
    "name": "ipython",
    "version": 3
   },
   "file_extension": ".py",
   "mimetype": "text/x-python",
   "name": "python",
   "nbconvert_exporter": "python",
   "pygments_lexer": "ipython3",
   "version": "3.11.5"
  }
 },
 "nbformat": 4,
 "nbformat_minor": 2
}
